{
 "cells": [
  {
   "cell_type": "markdown",
   "metadata": {},
   "source": [
    "## Week 1"
   ]
  },
  {
   "cell_type": "markdown",
   "metadata": {},
   "source": [
    "### Exercise 1:\n",
    "Write a function that receives a list as parameter and return how many elements it has; if it doesn't have any element return an error."
   ]
  },
  {
   "cell_type": "markdown",
   "metadata": {},
   "source": [
    "#### Solution 1:"
   ]
  },
  {
   "cell_type": "code",
   "execution_count": 24,
   "metadata": {},
   "outputs": [
    {
     "name": "stdout",
     "output_type": "stream",
     "text": [
      "Girilen liste eleman sayısı: 8\n"
     ]
    }
   ],
   "source": [
    "# Your code goes here\n",
    "\n",
    "def count_elements():\n",
    "    input_str = input(\"Lütfen virgülle ayrılmış sayıları girin: \")\n",
    "\n",
    "    if not input_str:\n",
    "        raise ValueError(\"Error\")\n",
    "    \n",
    "    num_list = [int(num) for num in input_str.split(',')]\n",
    "    return len(num_list)\n",
    "\n",
    "\n",
    "try:\n",
    "    result = count_elements()\n",
    "    print(f\"Girilen liste eleman sayısı: {result}\")\n",
    "except ValueError as e:\n",
    "    print(e)\n",
    "\n"
   ]
  },
  {
   "cell_type": "markdown",
   "metadata": {},
   "source": [
    "### Exercise 2:\n",
    "Write a function that receives a string as parameter and return the number of each character in it."
   ]
  },
  {
   "cell_type": "code",
   "execution_count": 29,
   "metadata": {},
   "outputs": [
    {
     "name": "stdout",
     "output_type": "stream",
     "text": [
      "['hello', 'world', \"ı'm\", 'mehtap']\n",
      "5\n",
      "5\n",
      "3\n",
      "6\n"
     ]
    }
   ],
   "source": [
    "# Your code goes here\n",
    "\n",
    "def split_sentence_and_number_of_each_character():\n",
    "    sentence = input(\"Lütfen bir cümle girin: \")\n",
    "    word_list = sentence.split(\" \")\n",
    "    print(word_list)\n",
    "    \n",
    "    for i in word_list:\n",
    "        print(len(i))\n",
    "\n",
    "split_sentence_and_number_of_each_character()"
   ]
  },
  {
   "cell_type": "code",
   "execution_count": null,
   "metadata": {},
   "outputs": [],
   "source": []
  }
 ],
 "metadata": {
  "kernelspec": {
   "display_name": "Python 3",
   "language": "python",
   "name": "python3"
  },
  "language_info": {
   "codemirror_mode": {
    "name": "ipython",
    "version": 3
   },
   "file_extension": ".py",
   "mimetype": "text/x-python",
   "name": "python",
   "nbconvert_exporter": "python",
   "pygments_lexer": "ipython3",
   "version": "3.10.7"
  }
 },
 "nbformat": 4,
 "nbformat_minor": 2
}
